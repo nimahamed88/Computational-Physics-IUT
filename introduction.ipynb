{
 "cells": [
  {
   "cell_type": "code",
   "execution_count": 45,
   "id": "b6d1bfa9",
   "metadata": {},
   "outputs": [],
   "source": [
    "import random\n",
    "import numpy as np\n",
    "import matplotlib.pyplot as plt\n"
   ]
  },
  {
   "cell_type": "markdown",
   "id": "9c8d2819",
   "metadata": {},
   "source": [
    "# evaluation of time in free fall"
   ]
  },
  {
   "cell_type": "code",
   "execution_count": 2,
   "id": "7f4206b3",
   "metadata": {},
   "outputs": [
    {
     "name": "stdout",
     "output_type": "stream",
     "text": [
      "height is 5.66 and time is 1.08\n",
      "height is 6.35 and time is 1.14\n",
      "height is 1.92 and time is 0.63\n",
      "height is 8.21 and time is 1.29\n",
      "height is 5.16 and time is 1.03\n"
     ]
    }
   ],
   "source": [
    "g = 9.8\n",
    "#t = np.sqrt((2*h)/g)\n",
    "for i in range (5):\n",
    "    h = 10*random.random()\n",
    "    t = np.sqrt((2*h)/g)\n",
    "    print ('height is {0:.2f} and time is {1:.2f}'.format(h,t))"
   ]
  },
  {
   "cell_type": "code",
   "execution_count": 3,
   "id": "2b47ddeb",
   "metadata": {},
   "outputs": [
    {
     "data": {
      "text/plain": [
       "0.26215272717222093"
      ]
     },
     "execution_count": 3,
     "metadata": {},
     "output_type": "execute_result"
    }
   ],
   "source": [
    "random.random()"
   ]
  },
  {
   "cell_type": "code",
   "execution_count": 4,
   "id": "361d4136",
   "metadata": {},
   "outputs": [
    {
     "name": "stdout",
     "output_type": "stream",
     "text": [
      "height is 4.09 and time is 0.91\n",
      "height is 1.79 and time is 0.60\n",
      "height is 5.74 and time is 1.08\n",
      "height is 7.87 and time is 1.27\n",
      "height is 8.57 and time is 1.32\n"
     ]
    }
   ],
   "source": [
    "def get_time(h):\n",
    "    g = 9.8\n",
    "    t = np.sqrt((2*h)/g)\n",
    "    return t\n",
    "for i in range (5):\n",
    "    h = 10*random.random()\n",
    "    t = get_time(h)\n",
    "    print ('height is {0:.2f} and time is {1:.2f}'.format(h,t))   "
   ]
  },
  {
   "cell_type": "markdown",
   "id": "52caf4dd",
   "metadata": {},
   "source": [
    "# Fibonacci sequence\n"
   ]
  },
  {
   "cell_type": "code",
   "execution_count": 5,
   "id": "c6402405",
   "metadata": {},
   "outputs": [
    {
     "name": "stdout",
     "output_type": "stream",
     "text": [
      "0\n",
      "1\n",
      "1\n",
      "2\n",
      "3\n",
      "5\n",
      "8\n",
      "13\n",
      "21\n",
      "34\n",
      "55\n",
      "89\n",
      "144\n",
      "233\n",
      "377\n",
      "610\n",
      "987\n"
     ]
    }
   ],
   "source": [
    "a, b = 0, 1\n",
    "\n",
    "while True:\n",
    "    print(a)\n",
    "    a, b = b, a + b  \n",
    "    if a > 1000:\n",
    "        break"
   ]
  },
  {
   "cell_type": "code",
   "execution_count": 6,
   "id": "e928b0f3",
   "metadata": {},
   "outputs": [
    {
     "name": "stdout",
     "output_type": "stream",
     "text": [
      "0\n",
      "1\n",
      "1\n",
      "2\n",
      "3\n",
      "5\n",
      "8\n",
      "13\n",
      "21\n",
      "34\n",
      "55\n",
      "89\n",
      "144\n",
      "233\n",
      "377\n",
      "610\n",
      "987\n"
     ]
    }
   ],
   "source": [
    "a, b = 0, 1\n",
    "\n",
    "while a < 1000:\n",
    "    print(a)\n",
    "    a, b = b, a + b  \n"
   ]
  },
  {
   "cell_type": "markdown",
   "id": "952423c0",
   "metadata": {},
   "source": [
    "# Polar transformation"
   ]
  },
  {
   "cell_type": "code",
   "execution_count": 7,
   "id": "dae91797",
   "metadata": {},
   "outputs": [
    {
     "name": "stdout",
     "output_type": "stream",
     "text": [
      "Enter x: 1\n",
      "Enter y: 1\n",
      "r = 1.41 , theta = 0.79\n"
     ]
    }
   ],
   "source": [
    "from math import atan2, sqrt, degrees\n",
    "def polar(x,y):\n",
    "    r = sqrt(x**2 + y**2)\n",
    "#     theta = degrees(atan2(x,y))\n",
    "    theta = (atan2(x,y))\n",
    "    \n",
    "    return r , theta\n",
    "\n",
    "x = float(input('Enter x: '))\n",
    "y = float(input('Enter y: '))\n",
    "\n",
    "r , theta = polar(x,y)\n",
    "\n",
    "# print('x = {0} , y = {1}'.format(x,y))\n",
    "print('r = {0:.2f} , theta = {1:.2f}'.format(r , theta))"
   ]
  },
  {
   "cell_type": "markdown",
   "id": "0bd23de2",
   "metadata": {},
   "source": [
    "# Second Session - 29 Bahman"
   ]
  },
  {
   "cell_type": "code",
   "execution_count": 8,
   "id": "9c9a7840",
   "metadata": {},
   "outputs": [
    {
     "name": "stdout",
     "output_type": "stream",
     "text": [
      "Enter x: 1\n",
      "Enter y: 1\n",
      "r = 1.41 , theta = 0.79\n"
     ]
    }
   ],
   "source": [
    "from math import atan, sqrt, degrees, pi\n",
    "def polar(x,y):\n",
    "    r = sqrt(x**2 + y**2)\n",
    "    if x == 0:\n",
    "        if y > 0:\n",
    "            theta = pi/2\n",
    "        else: \n",
    "            theta = 3*pi/2\n",
    "        \n",
    "    if x>0: theta = atan(x/y)\n",
    "            \n",
    "    if x<0: theta = atan(x/y) + pi\n",
    "    \n",
    "        \n",
    "    \n",
    "    return r , theta\n",
    "\n",
    "x = float(input('Enter x: '))\n",
    "y = float(input('Enter y: '))\n",
    "\n",
    "r , theta = polar(x,y)\n",
    "# print('x = {0} , y = {1}'.format(x,y))\n",
    "print('r = {0:.2f} , theta = {1:.2f}'.format(r , theta))"
   ]
  },
  {
   "cell_type": "markdown",
   "id": "e88a8902",
   "metadata": {},
   "source": [
    "# Third Session, 1-Esfand"
   ]
  },
  {
   "cell_type": "code",
   "execution_count": 27,
   "id": "991e1890",
   "metadata": {},
   "outputs": [
    {
     "name": "stdout",
     "output_type": "stream",
     "text": [
      "a = 1\n",
      "b = 2\n",
      "[0.  0.2 0.4 0.6 0.8 1. ]\n"
     ]
    },
    {
     "data": {
      "text/plain": [
       "array([2. , 2.2, 2.4, 2.6, 2.8, 3. ])"
      ]
     },
     "execution_count": 27,
     "metadata": {},
     "output_type": "execute_result"
    }
   ],
   "source": [
    "def eq(a,b,x):\n",
    "    for i in x:\n",
    "        res = a*x + b\n",
    "        return res\n",
    "    \n",
    "a = float(input('a = '))\n",
    "b = float(input('b = '))\n",
    "# x = random.random()\n",
    "# x = np.arange(10)\n",
    "x = np.arange(0,6)/5\n",
    "print(x)\n",
    "\n",
    "eq(a,b,x)\n"
   ]
  },
  {
   "cell_type": "code",
   "execution_count": 18,
   "id": "fc2615f4",
   "metadata": {},
   "outputs": [
    {
     "name": "stdout",
     "output_type": "stream",
     "text": [
      "a = 1\n",
      "b = 2\n"
     ]
    },
    {
     "data": {
      "text/plain": [
       "3.0"
      ]
     },
     "execution_count": 18,
     "metadata": {},
     "output_type": "execute_result"
    }
   ],
   "source": [
    "def eq(a,b):\n",
    "    x = random.random()\n",
    "#     x = 1\n",
    "    res = a*x + b\n",
    "    return res\n",
    "    \n",
    "a = float(input('a = '))\n",
    "b = float(input('b = '))\n",
    "\n",
    "eq(a,b)"
   ]
  },
  {
   "cell_type": "code",
   "execution_count": 37,
   "id": "c4f0aa23",
   "metadata": {},
   "outputs": [
    {
     "name": "stdout",
     "output_type": "stream",
     "text": [
      "[1 2 3 4]\n"
     ]
    },
    {
     "data": {
      "text/plain": [
       "array([2.5, 4.5, 6.5, 8.5])"
      ]
     },
     "execution_count": 37,
     "metadata": {},
     "output_type": "execute_result"
    }
   ],
   "source": [
    "def eq(a,b,x):\n",
    "    for i in x:\n",
    "        res = a*x + b\n",
    "    return res\n",
    "    \n",
    "\n",
    "x = np.array([1,2,3,4])\n",
    "print(x)\n",
    "\n",
    "eq(2,0.5,x)\n"
   ]
  },
  {
   "cell_type": "code",
   "execution_count": 36,
   "id": "d5df4479",
   "metadata": {},
   "outputs": [
    {
     "name": "stdout",
     "output_type": "stream",
     "text": [
      "[1, 2, 3, 4]\n",
      "2.5\n",
      "4.5\n",
      "6.5\n",
      "8.5\n"
     ]
    }
   ],
   "source": [
    "def eq(a,b,x):\n",
    "    res = a*x + b\n",
    "    return res\n",
    "\n",
    "x = [1, 2 , 3 , 4]\n",
    "print(x)\n",
    "for i in x:\n",
    "    print(eq(2,0.5,i))\n",
    "\n",
    "# eq(2,0.5,x)\n"
   ]
  },
  {
   "cell_type": "code",
   "execution_count": 38,
   "id": "b2f6f5bd",
   "metadata": {},
   "outputs": [
    {
     "name": "stdout",
     "output_type": "stream",
     "text": [
      "[1, 2, 3, 4]\n"
     ]
    },
    {
     "data": {
      "text/plain": [
       "[2.5, 4.5, 6.5, 8.5]"
      ]
     },
     "execution_count": 38,
     "metadata": {},
     "output_type": "execute_result"
    }
   ],
   "source": [
    "def eq(a,b,x):\n",
    "    res = a*x + b\n",
    "    return res\n",
    "    \n",
    "\n",
    "x = [1,2,3,4]\n",
    "print(x)\n",
    "\n",
    "myY = [eq(2,0.5,i) for i in x]\n",
    "myY"
   ]
  },
  {
   "cell_type": "code",
   "execution_count": 42,
   "id": "d5f07388",
   "metadata": {},
   "outputs": [
    {
     "name": "stdout",
     "output_type": "stream",
     "text": [
      "[0.  0.2 0.4 0.6 0.8 1. ]\n"
     ]
    },
    {
     "data": {
      "text/plain": [
       "array([2. , 2.2, 2.4, 2.6, 2.8, 3. ])"
      ]
     },
     "execution_count": 42,
     "metadata": {},
     "output_type": "execute_result"
    }
   ],
   "source": [
    "x = np.arange(0,6)/5\n",
    "print(x)\n",
    "myY = eq(1,2,x)\n",
    "myY"
   ]
  },
  {
   "cell_type": "code",
   "execution_count": 43,
   "id": "d746b223",
   "metadata": {},
   "outputs": [
    {
     "data": {
      "text/plain": [
       "array([0. , 0.2, 0.4, 0.6, 0.8, 1. ])"
      ]
     },
     "execution_count": 43,
     "metadata": {},
     "output_type": "execute_result"
    }
   ],
   "source": [
    "x = np.linspace(0,1,6)\n",
    "x"
   ]
  },
  {
   "cell_type": "code",
   "execution_count": 44,
   "id": "7a296eda",
   "metadata": {},
   "outputs": [
    {
     "data": {
      "text/plain": [
       "array([ 0.5       ,  1.61111111,  2.72222222,  3.83333333,  4.94444444,\n",
       "        6.05555556,  7.16666667,  8.27777778,  9.38888889, 10.5       ])"
      ]
     },
     "execution_count": 44,
     "metadata": {},
     "output_type": "execute_result"
    }
   ],
   "source": [
    "x = np.linspace(1,5,10)\n",
    "y = eq(2,0.5,x)\n"
   ]
  },
  {
   "cell_type": "code",
   "execution_count": 55,
   "id": "089e3796",
   "metadata": {},
   "outputs": [
    {
     "data": {
      "image/png": "[encoded data removed]",
      "text/plain": [
       "<Figure size 432x288 with 1 Axes>"
      ]
     },
     "metadata": {
      "needs_background": "light"
     },
     "output_type": "display_data"
    }
   ],
   "source": [
    "plt.plot(x,y,'r-.')\n",
    "plt.xlabel(\"x (m)\")\n",
    "plt.ylabel(\"y (m)\")\n",
    "plt.show()"
   ]
  },
  {
   "cell_type": "code",
   "execution_count": 60,
   "id": "b9712286",
   "metadata": {},
   "outputs": [
    {
     "data": {
      "image/png": "[encoded data removed]",
      "text/plain": [
       "<Figure size 432x288 with 1 Axes>"
      ]
     },
     "metadata": {
      "needs_background": "light"
     },
     "output_type": "display_data"
    }
   ],
   "source": [
    "plt.scatter(x,y,label = 'scatter')\n",
    "plt.plot(x,y,'r-.' , label = '$f(x) = 2 x + 0.5$')\n",
    "\n",
    "plt.xlabel(\"x (m)\")\n",
    "plt.ylabel(\"y (m)\")\n",
    "plt.legend()\n",
    "plt.show()"
   ]
  },
  {
   "cell_type": "code",
   "execution_count": 82,
   "id": "d3dd9bd9",
   "metadata": {},
   "outputs": [
    {
     "data": {
      "image/png": "[encoded data removed]",
      "text/plain": [
       "<Figure size 432x288 with 1 Axes>"
      ]
     },
     "metadata": {
      "needs_background": "light"
     },
     "output_type": "display_data"
    },
    {
     "name": "stdout",
     "output_type": "stream",
     "text": [
      "[0.         0.0020202  0.0040404  0.00606061 0.00808081 0.01010101\n",
      " 0.01212121 0.01414141 0.01616162 0.01818182 0.02020202 0.02222222\n",
      " 0.02424242 0.02626263 0.02828283 0.03030303 0.03232323 0.03434343\n",
      " 0.03636364 0.03838384 0.04040404 0.04242424 0.04444444 0.04646465\n",
      " 0.04848485 0.05050505 0.05252525 0.05454545 0.05656566 0.05858586\n",
      " 0.06060606 0.06262626 0.06464646 0.06666667 0.06868687 0.07070707\n",
      " 0.07272727 0.07474747 0.07676768 0.07878788 0.08080808 0.08282828\n",
      " 0.08484848 0.08686869 0.08888889 0.09090909 0.09292929 0.09494949\n",
      " 0.0969697  0.0989899  0.1010101  0.1030303  0.10505051 0.10707071\n",
      " 0.10909091 0.11111111 0.11313131 0.11515152 0.11717172 0.11919192\n",
      " 0.12121212 0.12323232 0.12525253 0.12727273 0.12929293 0.13131313\n",
      " 0.13333333 0.13535354 0.13737374 0.13939394 0.14141414 0.14343434\n",
      " 0.14545455 0.14747475 0.14949495 0.15151515 0.15353535 0.15555556\n",
      " 0.15757576 0.15959596 0.16161616 0.16363636 0.16565657 0.16767677\n",
      " 0.16969697 0.17171717 0.17373737 0.17575758 0.17777778 0.17979798\n",
      " 0.18181818 0.18383838 0.18585859 0.18787879 0.18989899 0.19191919\n",
      " 0.19393939 0.1959596  0.1979798  0.2       ]\n",
      "[ 0.          0.0013619   0.00268381  0.00396572  0.00520763  0.00640955\n",
      "  0.00757147  0.0086934   0.00977533  0.01081726  0.0118192   0.01278114\n",
      "  0.01370309  0.01458504  0.01542699  0.01622895  0.01699092  0.01771288\n",
      "  0.01839485  0.01903683  0.01963881  0.02020079  0.02072278  0.02120477\n",
      "  0.02164677  0.02204876  0.02241077  0.02273278  0.02301479  0.0232568\n",
      "  0.02345882  0.02362085  0.02374288  0.02382491  0.02386694  0.02386898\n",
      "  0.02383103  0.02375308  0.02363513  0.02347719  0.02327925  0.02304131\n",
      "  0.02276338  0.02244545  0.02208753  0.02168961  0.0212517   0.02077379\n",
      "  0.02025588  0.01969798  0.01910008  0.01846219  0.0177843   0.01706641\n",
      "  0.01630853  0.01551065  0.01467278  0.01379491  0.01287704  0.01191918\n",
      "  0.01092132  0.00988347  0.00880562  0.00768777  0.00652993  0.00533209\n",
      "  0.00409426  0.00281643  0.00149861  0.00014079 -0.00125703 -0.00269484\n",
      " -0.00417265 -0.00569046 -0.00724826 -0.00884605 -0.01048385 -0.01216163\n",
      " -0.01387942 -0.0156372  -0.01743497 -0.01927275 -0.02115051 -0.02306828\n",
      " -0.02502604 -0.02702379 -0.02906154 -0.03113929 -0.03325704 -0.03541477\n",
      " -0.03761251 -0.03985024 -0.04212797 -0.04444569 -0.04680341 -0.04920112\n",
      " -0.05163884 -0.05411654 -0.05663424 -0.05919194]\n"
     ]
    }
   ],
   "source": [
    "def partab(v0 , theta , t ,y0):\n",
    "    g = 9.8\n",
    "    return (-0.5*g)*(t**2) + v0*t*np.sin(theta*np.pi/180) + y0\n",
    "\n",
    "t = np.linspace(0,0.2,100)\n",
    "y0 = 0\n",
    "v0 = 2\n",
    "theta = 20\n",
    "\n",
    "y = partab(v0,theta,t,y0=0)\n",
    "\n",
    "plt.plot(t,y,'r-.' , label = '$partabe$')\n",
    "plt.xlabel(\"t (s)\")\n",
    "plt.ylabel(\"y (m)\")\n",
    "plt.legend()\n",
    "plt.show()\n",
    "print(t)\n",
    "print(y)"
   ]
  },
  {
   "cell_type": "code",
   "execution_count": null,
   "id": "c0a75cbd",
   "metadata": {},
   "outputs": [],
   "source": []
  }
 ],
 "metadata": {
  "kernelspec": {
   "display_name": "Python 3 (ipykernel)",
   "language": "python",
   "name": "python3"
  },
  "language_info": {
   "codemirror_mode": {
    "name": "ipython",
    "version": 3
   },
   "file_extension": ".py",
   "mimetype": "text/x-python",
   "name": "python",
   "nbconvert_exporter": "python",
   "pygments_lexer": "ipython3",
   "version": "3.10.12"
  }
 },
 "nbformat": 4,
 "nbformat_minor": 5
}
