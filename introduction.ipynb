{
 "cells": [
  {
   "cell_type": "code",
   "execution_count": 8,
   "id": "b6d1bfa9",
   "metadata": {},
   "outputs": [],
   "source": [
    "import random\n",
    "import numpy as np\n"
   ]
  },
  {
   "cell_type": "markdown",
   "id": "9c8d2819",
   "metadata": {},
   "source": [
    "# evaluation of time in free fall"
   ]
  },
  {
   "cell_type": "code",
   "execution_count": 7,
   "id": "7f4206b3",
   "metadata": {},
   "outputs": [
    {
     "name": "stdout",
     "output_type": "stream",
     "text": [
      "height is 9.04 and time is 1.36\n",
      "height is 4.12 and time is 0.92\n",
      "height is 1.67 and time is 0.58\n",
      "height is 0.50 and time is 0.32\n",
      "height is 2.45 and time is 0.71\n"
     ]
    }
   ],
   "source": [
    "g = 9.8\n",
    "#t = np.sqrt((2*h)/g)\n",
    "for i in range (5):\n",
    "    h = 10*random.random()\n",
    "    t = np.sqrt((2*h)/g)\n",
    "    print ('height is {0:.2f} and time is {1:.2f}'.format(h,t))"
   ]
  },
  {
   "cell_type": "code",
   "execution_count": 14,
   "id": "2b47ddeb",
   "metadata": {},
   "outputs": [
    {
     "data": {
      "text/plain": [
       "0.728809803893351"
      ]
     },
     "execution_count": 14,
     "metadata": {},
     "output_type": "execute_result"
    }
   ],
   "source": [
    "random.random()"
   ]
  },
  {
   "cell_type": "code",
   "execution_count": 12,
   "id": "361d4136",
   "metadata": {},
   "outputs": [
    {
     "name": "stdout",
     "output_type": "stream",
     "text": [
      "height is 0.09 and time is 0.13\n",
      "height is 9.18 and time is 1.37\n",
      "height is 4.11 and time is 0.92\n",
      "height is 1.49 and time is 0.55\n",
      "height is 9.27 and time is 1.38\n"
     ]
    }
   ],
   "source": [
    "def get_time(h):\n",
    "    g = 9.8\n",
    "    t = np.sqrt((2*h)/g)\n",
    "    return t\n",
    "for i in range (5):\n",
    "    h = 10*random.random()\n",
    "    t = get_time(h)\n",
    "    print ('height is {0:.2f} and time is {1:.2f}'.format(h,t))   "
   ]
  },
  {
   "cell_type": "markdown",
   "id": "52caf4dd",
   "metadata": {},
   "source": [
    "# Fibonacci sequence\n"
   ]
  },
  {
   "cell_type": "code",
   "execution_count": 22,
   "id": "c6402405",
   "metadata": {},
   "outputs": [
    {
     "name": "stdout",
     "output_type": "stream",
     "text": [
      "0\n",
      "1\n",
      "1\n",
      "2\n",
      "3\n",
      "5\n",
      "8\n",
      "13\n",
      "21\n",
      "34\n",
      "55\n",
      "89\n",
      "144\n",
      "233\n",
      "377\n",
      "610\n",
      "987\n"
     ]
    }
   ],
   "source": [
    "a, b = 0, 1\n",
    "\n",
    "while True:\n",
    "    print(a)\n",
    "    a, b = b, a + b  \n",
    "    if a > 1000:\n",
    "        break"
   ]
  },
  {
   "cell_type": "code",
   "execution_count": 12,
   "id": "e928b0f3",
   "metadata": {},
   "outputs": [
    {
     "name": "stdout",
     "output_type": "stream",
     "text": [
      "0\n",
      "1\n",
      "1\n",
      "2\n",
      "3\n",
      "5\n",
      "8\n",
      "13\n",
      "21\n",
      "34\n",
      "55\n",
      "89\n",
      "144\n",
      "233\n",
      "377\n",
      "610\n",
      "987\n"
     ]
    }
   ],
   "source": [
    "a, b = 0, 1\n",
    "\n",
    "while a < 1000:\n",
    "    print(a)\n",
    "    a, b = b, a + b  \n"
   ]
  },
  {
   "cell_type": "markdown",
   "id": "952423c0",
   "metadata": {},
   "source": [
    "# Polar transformation"
   ]
  },
  {
   "cell_type": "code",
   "execution_count": 23,
   "id": "dae91797",
   "metadata": {},
   "outputs": [
    {
     "name": "stdout",
     "output_type": "stream",
     "text": [
      "Enter x: 0\n",
      "Enter y: 1\n",
      "r = 1.00 , theta = 0.00\n"
     ]
    }
   ],
   "source": [
    "from math import atan2, sqrt, degrees\n",
    "def polar(x,y):\n",
    "    r = sqrt(x**2 + y**2)\n",
    "#     theta = degrees(atan2(x,y))\n",
    "    theta = (atan2(x,y))\n",
    "    \n",
    "    return r , theta\n",
    "\n",
    "x = float(input('Enter x: '))\n",
    "y = float(input('Enter y: '))\n",
    "\n",
    "r , theta = polar(x,y)\n",
    "\n",
    "# print('x = {0} , y = {1}'.format(x,y))\n",
    "print('r = {0:.2f} , theta = {1:.2f}'.format(r , theta))"
   ]
  },
  {
   "cell_type": "markdown",
   "id": "0bd23de2",
   "metadata": {},
   "source": [
    "# Second Session - 29 Bahman"
   ]
  },
  {
   "cell_type": "code",
   "execution_count": 1,
   "id": "9c9a7840",
   "metadata": {},
   "outputs": [
    {
     "name": "stdout",
     "output_type": "stream",
     "text": [
      "Enter x: 1\n",
      "Enter y: 1\n"
     ]
    },
    {
     "ename": "NameError",
     "evalue": "name 'theta' is not defined",
     "output_type": "error",
     "traceback": [
      "\u001b[0;31m---------------------------------------------------------------------------\u001b[0m",
      "\u001b[0;31mNameError\u001b[0m                                 Traceback (most recent call last)",
      "\u001b[0;32m/tmp/ipykernel_239977/861130686.py\u001b[0m in \u001b[0;36m<module>\u001b[0;34m\u001b[0m\n\u001b[1;32m     20\u001b[0m \u001b[0;34m\u001b[0m\u001b[0m\n\u001b[1;32m     21\u001b[0m \u001b[0;31m# r , theta = polar(x,y)\u001b[0m\u001b[0;34m\u001b[0m\u001b[0;34m\u001b[0m\u001b[0m\n\u001b[0;32m---> 22\u001b[0;31m \u001b[0mprint\u001b[0m\u001b[0;34m(\u001b[0m\u001b[0mtheta\u001b[0m\u001b[0;34m)\u001b[0m\u001b[0;34m\u001b[0m\u001b[0;34m\u001b[0m\u001b[0m\n\u001b[0m\u001b[1;32m     23\u001b[0m \u001b[0;31m# print('x = {0} , y = {1}'.format(x,y))\u001b[0m\u001b[0;34m\u001b[0m\u001b[0;34m\u001b[0m\u001b[0m\n\u001b[1;32m     24\u001b[0m \u001b[0mprint\u001b[0m\u001b[0;34m(\u001b[0m\u001b[0;34m'r = {0:.2f} , theta = {1:.2f}'\u001b[0m\u001b[0;34m.\u001b[0m\u001b[0mformat\u001b[0m\u001b[0;34m(\u001b[0m\u001b[0mr\u001b[0m \u001b[0;34m,\u001b[0m \u001b[0mtheta\u001b[0m\u001b[0;34m)\u001b[0m\u001b[0;34m)\u001b[0m\u001b[0;34m\u001b[0m\u001b[0;34m\u001b[0m\u001b[0m\n",
      "\u001b[0;31mNameError\u001b[0m: name 'theta' is not defined"
     ]
    }
   ],
   "source": [
    "from math import atan, sqrt, degrees, pi\n",
    "def polar(x,y):\n",
    "    r = sqrt(x**2 + y**2)\n",
    "    if x == 0:\n",
    "        if y > 0:\n",
    "            theta = pi/2\n",
    "        else: \n",
    "            theta = 3*pi/2\n",
    "        \n",
    "    if x>0: theta = atan(x/y)\n",
    "            \n",
    "    if x<0: theta = atan(x/y) + pi\n",
    "    \n",
    "        \n",
    "    \n",
    "    return r , theta\n",
    "\n",
    "x = float(input('Enter x: '))\n",
    "y = float(input('Enter y: '))\n",
    "\n",
    "r , theta = polar(x,y)\n",
    "# print('x = {0} , y = {1}'.format(x,y))\n",
    "print('r = {0:.2f} , theta = {1:.2f}'.format(r , theta))"
   ]
  },
  {
   "cell_type": "code",
   "execution_count": null,
   "id": "364d33f7",
   "metadata": {},
   "outputs": [],
   "source": []
  }
 ],
 "metadata": {
  "kernelspec": {
   "display_name": "Python 3 (ipykernel)",
   "language": "python",
   "name": "python3"
  },
  "language_info": {
   "codemirror_mode": {
    "name": "ipython",
    "version": 3
   },
   "file_extension": ".py",
   "mimetype": "text/x-python",
   "name": "python",
   "nbconvert_exporter": "python",
   "pygments_lexer": "ipython3",
   "version": "3.10.12"
  }
 },
 "nbformat": 4,
 "nbformat_minor": 5
}
